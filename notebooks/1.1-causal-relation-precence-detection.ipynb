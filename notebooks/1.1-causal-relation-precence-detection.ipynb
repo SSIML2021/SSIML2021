{
 "cells": [
  {
   "cell_type": "markdown",
   "id": "089fbb81-252b-4a37-ae57-2ac18449f52b",
   "metadata": {},
   "source": [
    "# Paragraph causal relation detection: do they contain a causal relation or not"
   ]
  },
  {
   "cell_type": "markdown",
   "id": "ec9d3328-c145-4c18-8dc5-d50c8d23ff60",
   "metadata": {},
   "source": [
    "**Example**: '3-2: <span style=\"background-color: lightblue;\">[concept Giving to the ECB the ultimate responsibility for supervision of banks in the euro area concept]</span> <span style=\"background-color: pink;\">[explanation will decisively contribute to increase explanation]</span> <span style=\"background-color: lightblue;\">[concept confidence between the banks concept]</span> <span style=\"background-color: pink;\">[explanation and in this way increase explanation]</span> <span style=\"background-color: lightblue;\">[concept the financial stability in the euro area concept]</span>. The euro area governments and the European institutions, including naturally the European Commission and the ECB, will do whatever is necessary to secure the financial stability of the euro area.\\n'"
   ]
  },
  {
   "cell_type": "markdown",
   "id": "8745012f-ea20-4006-ae0e-aff15c468406",
   "metadata": {},
   "source": [
    "## 1. Load data\n",
    "\n",
    "This notebook expects three files in a subdirectory `csv`: `Map_Contents-20200726.csv`, `Speech_Contents-20210520.txt` and `Speeches-20210520.txt`. It will look for files with the speeches in the subdirectory `txt`. The names of the speech files are expected to start with the date followed by a space and the suname of the speaker (currently restricted to one word, see function `get_speech_id`).\n",
    "\n",
    "If you are just interested in learning what the code is doing, you can skip all code blocks with the commands `import` (load libraries), `assert` (perform tests) and `def` (define functions), and examine the other code blocks."
   ]
  },
  {
   "cell_type": "code",
   "execution_count": 1,
   "id": "1103f296-55e8-48d3-82d6-c5ff556517fc",
   "metadata": {},
   "outputs": [
    {
     "name": "stdout",
     "output_type": "stream",
     "text": [
      "/Users/svenvanderburg/projects/SSIML2021\n"
     ]
    }
   ],
   "source": [
    "cd .."
   ]
  },
  {
   "cell_type": "code",
   "execution_count": 2,
   "id": "fe46c347-e0da-4ec0-9324-1c6958d674c7",
   "metadata": {},
   "outputs": [],
   "source": [
    "import os\n",
    "from src.data.make_dataset import read_data_file"
   ]
  },
  {
   "cell_type": "code",
   "execution_count": 3,
   "id": "674ffb63-ac11-459c-aaa6-f7c71707859f",
   "metadata": {},
   "outputs": [],
   "source": [
    "assert os.path.isdir(\"csv\"), 'The directory \"csv\" does not exist!'\n",
    "assert os.path.isdir(\"txt\"), 'The directory \"txt\" does not exist!'"
   ]
  },
  {
   "cell_type": "code",
   "execution_count": 4,
   "id": "9b4c4617-19e7-4761-8611-7da844ce4d46",
   "metadata": {},
   "outputs": [],
   "source": [
    "map_contents = read_data_file(\"csv/Map_Contents-20200726.csv\")"
   ]
  },
  {
   "cell_type": "code",
   "execution_count": 5,
   "id": "34d9c7dc-9eb6-4ca5-b68e-623df60ec249",
   "metadata": {},
   "outputs": [],
   "source": [
    "speech_contents = read_data_file(\"csv/Speech_Contents-20210520.txt\")"
   ]
  },
  {
   "cell_type": "code",
   "execution_count": 6,
   "id": "96ca5158-7645-42ff-81b3-403e9f3b9e06",
   "metadata": {},
   "outputs": [],
   "source": [
    "speeches = read_data_file(\"csv/Speeches-20210520.txt\")"
   ]
  },
  {
   "cell_type": "markdown",
   "id": "cb87bac0-bf3c-41b5-b515-1d89650bbc30",
   "metadata": {},
   "source": [
    "## 2. Predict presence of causal relations in paragraphs\n",
    "\n",
    "Steps:\n",
    "\n",
    "1. store the paragraphs in the data structure X (data) after separating punctuation from words and replacing upper case by lower case\n",
    "2. create a data structure y (labels) with True for paragraphs with causal relations and False for others\n",
    "3. predict a label for each paragraph with a machine learning model generated from the other paragraphs\n",
    "4. evaluate the results\n",
    "\n",
    "The code in this task uses the packages `fasttext` (for machine learning) and `nltk` (for language processing) \n",
    "\n",
    "The task uses limited natural language processing to prepare the data for machine leaning:\n",
    "\n",
    "1. tokenization: separate punctuation from words\n",
    "2. conversion of upper case characters to lower case\n",
    "\n",
    "Other interesting natural language preprocessing steps:\n",
    "\n",
    "3. part-of-tagging\n",
    "4. full parsing (Stanford parser)"
   ]
  },
  {
   "cell_type": "code",
   "execution_count": 7,
   "id": "c9885816-1ca5-4eab-ab34-6defacea8086",
   "metadata": {},
   "outputs": [],
   "source": [
    "from src.data.make_dataset import make_dataset"
   ]
  },
  {
   "cell_type": "code",
   "execution_count": 8,
   "id": "b4d7262f-1043-4264-9bd0-995a2167e1af",
   "metadata": {},
   "outputs": [],
   "source": [
    "import fasttext\n",
    "from langdetect import detect\n",
    "from nltk.tokenize import word_tokenize\n",
    "import numpy as np\n",
    "import re\n",
    "import sklearn\n",
    "import pandas as pd\n",
    "from termcolor import colored\n",
    "from IPython.display import clear_output\n",
    "import matplotlib.pyplot as plt\n",
    "import itertools"
   ]
  },
  {
   "cell_type": "code",
   "execution_count": 9,
   "id": "af520e25-eac0-4583-baff-d45520d6ae47",
   "metadata": {},
   "outputs": [],
   "source": [
    "def make_train_test(X, y, test_index=0):\n",
    "    train_list = []\n",
    "    test_list = []\n",
    "    index = 0\n",
    "    for key in sorted(X.keys()):\n",
    "        if index == test_index:\n",
    "            test_list.append(f\"__label__{str(y[key])} {X[key]}\")\n",
    "        else:\n",
    "            train_list.append(f\"__label__{str(y[key])} {X[key]}\")\n",
    "        index += 1\n",
    "    return train_list, test_list"
   ]
  },
  {
   "cell_type": "code",
   "execution_count": 10,
   "id": "252e8127-40a4-493a-bc12-c9b976a5eff9",
   "metadata": {},
   "outputs": [],
   "source": [
    "def make_train_file(file_name, train_list):\n",
    "    data_file = open(file_name, \"w\")\n",
    "    for line in train_list:\n",
    "        print(line, file=data_file)\n",
    "    data_file.close()"
   ]
  },
  {
   "cell_type": "code",
   "execution_count": 11,
   "id": "4507f68a-d422-4191-91f1-6665f29e9aa1",
   "metadata": {},
   "outputs": [],
   "source": [
    "def decode_label(label):\n",
    "    return re.sub(\"__label__\", \"\", label) == \"True\""
   ]
  },
  {
   "cell_type": "code",
   "execution_count": 12,
   "id": "1859e3e5-7d48-4971-a28b-5c5153053bbb",
   "metadata": {},
   "outputs": [],
   "source": [
    "def show_results(results):\n",
    "    result_list = []\n",
    "    for key in results:\n",
    "        result_list.append({\"paragraph\": key})\n",
    "        result_list[-1].update(results[key])\n",
    "    return pd.DataFrame(result_list, index=[\"\"]*len(result_list))"
   ]
  },
  {
   "cell_type": "code",
   "execution_count": 13,
   "id": "d0617b78-e559-4d77-ad29-89054181bfae",
   "metadata": {},
   "outputs": [],
   "source": [
    "def count_y_values(y):\n",
    "    values = {}\n",
    "    for key in y:\n",
    "        if y[key] not in values:\n",
    "            values[y[key]] = 0\n",
    "        values[y[key]] += 1\n",
    "    table = []\n",
    "    for key in values:\n",
    "        table.append({\"label\": key, \"count\": values[key], \"percentage\": f\"{round(100*values[key]/len(y), 1)}%\"})\n",
    "    return pd.DataFrame(table, index=[\"\"]*len(table))"
   ]
  },
  {
   "cell_type": "code",
   "execution_count": 14,
   "id": "b0857c3c-7cbc-4cca-abcd-5684f4713b18",
   "metadata": {},
   "outputs": [],
   "source": [
    "def squeal(text):\n",
    "    clear_output(wait=True)\n",
    "    print(text)"
   ]
  },
  {
   "cell_type": "code",
   "execution_count": 15,
   "id": "fde81ba8-d96b-47b1-aa8b-4cbbbba8ce85",
   "metadata": {},
   "outputs": [],
   "source": [
    "def make_fasttext_data(data_in):\n",
    "    data_out = []\n",
    "    for paragraph, label in data_in:\n",
    "        data_out.append(\"__label__\" + str(label) + \" \" + paragraph)\n",
    "    return data_out"
   ]
  },
  {
   "cell_type": "code",
   "execution_count": 16,
   "id": "521e816f-1dde-47d0-a285-9e96683fa0b9",
   "metadata": {},
   "outputs": [],
   "source": [
    "def run_experiments(X, y, wordNgrams=1, pretrainedVectors=\"\"):\n",
    "    y_pred = []\n",
    "    y_true = [ y[key] for key in X if key in y]\n",
    "    counter = 0\n",
    "    data = np.array([ (X[key], y[key]) for key in X if key in y])\n",
    "    for train_items, test_items in sklearn.model_selection.KFold(n_splits=10).split(X):\n",
    "        train_data = make_fasttext_data(data[train_items])\n",
    "        make_train_file(\"train_file.txt\", train_data)\n",
    "        model = fasttext.train_supervised(\"train_file.txt\", dim=300, pretrainedVectors=pretrainedVectors, wordNgrams=wordNgrams)\n",
    "        test_data = make_fasttext_data(data[test_items])\n",
    "        predicted_labels = model.predict(test_data)\n",
    "        y_pred.extend(predicted_labels[0])\n",
    "        counter += 1\n",
    "        squeal(f\"Ran experiment {counter} of 10\")\n",
    "        \n",
    "    y_pred = [decode_label(label[0]) for label in y_pred]\n",
    "    return y_true, y_pred"
   ]
  },
  {
   "cell_type": "markdown",
   "id": "561c7243-9f48-4f2d-ad4c-cd66c671f45e",
   "metadata": {},
   "source": [
    "The variable `X` in the next code block contains all the data (paragraphs) available for machine learning. The variable `y` contains all the associated labels, with values `True` or `False`.   "
   ]
  },
  {
   "cell_type": "code",
   "execution_count": 17,
   "id": "1fdebb68-18e5-4b42-b7c4-c76d8872b818",
   "metadata": {},
   "outputs": [],
   "source": [
    "def plot_confusion_matrix(cm,\n",
    "                          target_names,\n",
    "                          title='Confusion matrix',\n",
    "                          cmap=None,\n",
    "                          normalize=True):\n",
    "    \"\"\"\n",
    "    given a sklearn confusion matrix (cm), make a nice plot\n",
    "\n",
    "    Arguments\n",
    "    ---------\n",
    "    cm:           confusion matrix from sklearn.metrics.confusion_matrix\n",
    "\n",
    "    target_names: given classification classes such as [0, 1, 2]\n",
    "                  the class names, for example: ['high', 'medium', 'low']\n",
    "\n",
    "    title:        the text to display at the top of the matrix\n",
    "\n",
    "    cmap:         the gradient of the values displayed from matplotlib.pyplot.cm\n",
    "                  see http://matplotlib.org/examples/color/colormaps_reference.html\n",
    "                  plt.get_cmap('jet') or plt.cm.Blues\n",
    "\n",
    "    normalize:    If False, plot the raw numbers\n",
    "                  If True, plot the proportions\n",
    "\n",
    "    Usage\n",
    "    -----\n",
    "    plot_confusion_matrix(cm           = cm,                  # confusion matrix created by\n",
    "                                                              # sklearn.metrics.confusion_matrix\n",
    "                          normalize    = True,                # show proportions\n",
    "                          target_names = y_labels_vals,       # list of names of the classes\n",
    "                          title        = best_estimator_name) # title of graph\n",
    "\n",
    "    Citiation\n",
    "    ---------\n",
    "    http://scikit-learn.org/stable/auto_examples/model_selection/plot_confusion_matrix.html\n",
    "\n",
    "    \"\"\"\n",
    "    if cmap is None:\n",
    "        cmap = plt.get_cmap('Blues')\n",
    "\n",
    "    plt.figure(figsize=(8, 6))\n",
    "    plt.imshow(cm, interpolation='nearest', cmap=cmap)\n",
    "    plt.title(title)\n",
    "    plt.colorbar()\n",
    "\n",
    "    if target_names is not None:\n",
    "        tick_marks = np.arange(len(target_names))\n",
    "        plt.xticks(tick_marks, target_names, rotation=45)\n",
    "        plt.yticks(tick_marks, target_names)\n",
    "\n",
    "    if normalize:\n",
    "        cm = cm.astype('float') / cm.sum(axis=1)[:, np.newaxis]\n",
    "\n",
    "\n",
    "    thresh = cm.max() / 1.5 if normalize else cm.max() / 2\n",
    "    for i, j in itertools.product(range(cm.shape[0]), range(cm.shape[1])):\n",
    "        if normalize:\n",
    "            plt.text(j, i, \"{:0.4f}\".format(cm[i, j]),\n",
    "                     horizontalalignment=\"center\",\n",
    "                     color=\"white\" if cm[i, j] > thresh else \"black\")\n",
    "        else:\n",
    "            plt.text(j, i, \"{:,}\".format(cm[i, j]),\n",
    "                     horizontalalignment=\"center\",\n",
    "                     color=\"white\" if cm[i, j] > thresh else \"black\")\n",
    "\n",
    "\n",
    "    plt.tight_layout()\n",
    "    plt.ylabel('True label')\n",
    "    plt.xlabel('Predicted label')\n",
    "    plt.show()"
   ]
  },
  {
   "cell_type": "code",
   "execution_count": 18,
   "id": "7d31da12-7945-4bcc-a1b4-67db614cd97c",
   "metadata": {},
   "outputs": [],
   "source": [
    "def evaluate_results(y_true, y_pred):\n",
    "    precision, recall, fscore, _ = sklearn.metrics.precision_recall_fscore_support(y_true, y_pred, average='macro')\n",
    "    print(f\"Precision: {precision:0.3f}; recall: {recall:0.3f}; F1: {fscore:0.3f}\")"
   ]
  },
  {
   "cell_type": "code",
   "execution_count": 19,
   "id": "03813d8e-ee70-4d55-b70b-b18348730cc8",
   "metadata": {},
   "outputs": [
    {
     "name": "stdout",
     "output_type": "stream",
     "text": [
      "skipping file in language de: 2015-01-19 Merkel Bundesregerung ann g.txt\n",
      "\u001b[31mwarning: mismatch meta data (14) vs file (12) for file 2011-05-20 Weidmann Deutsche Bundesbank_01 ANN.txt\u001b[0m\n",
      "\u001b[31mwarning: unknown paragraph id nan for document 208; file name: 2012-02-24 Weidmann Deutsche Bundesbank ann.txt\u001b[0m\n",
      "\u001b[31mwarning: mismatch meta data (4) vs file (3) for file 2011-11-10 Orban London ann.txt\u001b[0m\n",
      "skipping file in language nl: 2011-09-27 Rutte Rijksoverheid ann.txt\n",
      "\u001b[31mwarning: mismatch meta data (7) vs file (6) for file 2012-12-07 Simor Bis.org ann.txt\u001b[0m\n",
      "\u001b[31mwarning: mismatch meta data (2) vs file (1) for file 2010-03-29 Brown sfm2020 ann.txt\u001b[0m\n",
      "\u001b[31mwarning: unknown paragraph id nan for document 335; file name: 2012-10-17 Thorning Schmidt Statsministeriet ann.txt\u001b[0m\n",
      "\u001b[31mwarning: mismatch meta data (21) vs file (20) for file 2012-10-17 Thorning Schmidt Statsministeriet ann.txt\u001b[0m\n",
      "\u001b[31mwarning: mismatch meta data (11) vs file (10) for file 2012-07-17 Linde Banco de Espana_01 ann.txt\u001b[0m\n",
      "\u001b[31mwarning: mismatch meta data (22) vs file (19) for file 2013-10-08 Weidmann Deutsche Bundesbank ann.txt\u001b[0m\n",
      "skipping file in language nl: 2011-10-28 Knot dnb_01 ANN NL.txt\n",
      "skipping file in language fr: 2013-04-17 Hollande SFM2020 ann fr.txt\n",
      "skipping file in language fr: 2010-04-20 Barroso European Commission ann fr.txt\n",
      "skipping file in language de: 2012-01-06 Rutte CSU klausurtagung ann G.txt\n",
      "\u001b[31mwarning: mismatch meta data (19) vs file (18) for file 2013-02-26 Rohde Danmarks Nationalbank ann.txt\u001b[0m\n",
      "skipping file in language nl: 2011-04-06 Rutte FD evenement ann NL.txt\n",
      "skipping file in language fr: 2011-01-13 Sarkozy gb ann.txt\n",
      "skipping file in language fr: 2012-08-30 Hollande SFM2020 ann fr.txt\n",
      "skipping file in language fr: 2009-12-01 Sarkozy Elysee (Economy) ann fr.txt\n",
      "\u001b[31mwarning: mismatch meta data (21) vs file (20) for file 2014-07-18 Weidmann Deutsche Bundesbank ann.txt\u001b[0m\n",
      "skipping file placeholder.txt\n",
      "skipping file in language de: 2013-11-21 Merkel Bundesregerung ann g.txt\n",
      "\u001b[31mwarning: mismatch meta data (14) vs file (13) for file 2013-05-31 Linde Banco de Espana_01 ann.txt\u001b[0m\n",
      "\u001b[31mwarning: mismatch meta data (24) vs file (22) for file 2012-07-11 Rajoy La Moncloa ann.txt\u001b[0m\n",
      "skipping file in language unk: 2012-07-26 Barroso European Commission.txt\n",
      "\u001b[31mwarning: mismatch meta data (4) vs file (3) for file 2011-11-12 Rutte Trilateral Commission - code ann.txt\u001b[0m\n",
      "skipping file in language fr: 2013-02-19 Hollande SFM2020 ann fr.txt\n",
      "\u001b[31mwarning: mismatch meta data (10) vs file (7) for file 1998-12-14 Schroeder ann.txt\u001b[0m\n",
      "skipping file in language fr: 2009-12-14 Sarkozy Elysee (Economy) ann fr.txt\n",
      "skipping file in language de: 2014-02-27 Merkel Bundesregerung ann g.txt\n",
      "read 118 files with 897 paragraphs; skipped 16 files\n"
     ]
    }
   ],
   "source": [
    "X, y = make_dataset(speeches, speech_contents, map_contents)"
   ]
  },
  {
   "cell_type": "code",
   "execution_count": 20,
   "id": "750bf174-9c0b-4b1b-a5ac-421ad1c285bf",
   "metadata": {},
   "outputs": [
    {
     "data": {
      "text/html": [
       "<div>\n",
       "<style scoped>\n",
       "    .dataframe tbody tr th:only-of-type {\n",
       "        vertical-align: middle;\n",
       "    }\n",
       "\n",
       "    .dataframe tbody tr th {\n",
       "        vertical-align: top;\n",
       "    }\n",
       "\n",
       "    .dataframe thead th {\n",
       "        text-align: right;\n",
       "    }\n",
       "</style>\n",
       "<table border=\"1\" class=\"dataframe\">\n",
       "  <thead>\n",
       "    <tr style=\"text-align: right;\">\n",
       "      <th></th>\n",
       "      <th>label</th>\n",
       "      <th>count</th>\n",
       "      <th>percentage</th>\n",
       "    </tr>\n",
       "  </thead>\n",
       "  <tbody>\n",
       "    <tr>\n",
       "      <th></th>\n",
       "      <td>True</td>\n",
       "      <td>660</td>\n",
       "      <td>73.6%</td>\n",
       "    </tr>\n",
       "    <tr>\n",
       "      <th></th>\n",
       "      <td>False</td>\n",
       "      <td>237</td>\n",
       "      <td>26.4%</td>\n",
       "    </tr>\n",
       "  </tbody>\n",
       "</table>\n",
       "</div>"
      ],
      "text/plain": [
       "  label  count percentage\n",
       "   True    660      73.6%\n",
       "  False    237      26.4%"
      ]
     },
     "execution_count": 20,
     "metadata": {},
     "output_type": "execute_result"
    }
   ],
   "source": [
    "count_y_values(y)"
   ]
  },
  {
   "cell_type": "code",
   "execution_count": 36,
   "id": "043cce8e-89b6-4234-b2ae-8598148fad14",
   "metadata": {},
   "outputs": [
    {
     "data": {
      "text/plain": [
       "878"
      ]
     },
     "execution_count": 36,
     "metadata": {},
     "output_type": "execute_result"
    }
   ],
   "source": [
    "len(X)"
   ]
  },
  {
   "cell_type": "code",
   "execution_count": 37,
   "id": "42a29859-c383-4bfc-bde4-61995716b5cf",
   "metadata": {},
   "outputs": [
    {
     "data": {
      "text/plain": [
       "897"
      ]
     },
     "execution_count": 37,
     "metadata": {},
     "output_type": "execute_result"
    }
   ],
   "source": [
    "len(y)"
   ]
  },
  {
   "cell_type": "markdown",
   "id": "7c2d61a5-b403-45ed-8a18-538f8c1c64e0",
   "metadata": {},
   "source": [
    "We run 10 experiments for 10 different splits. In each machine learning experiment, one part of the data is used as test data while all others are used for training a machine learning model to predict the labels of this part. "
   ]
  },
  {
   "cell_type": "code",
   "execution_count": 33,
   "id": "54c2afdf-3241-40a8-b648-7d7187f9d796",
   "metadata": {},
   "outputs": [
    {
     "name": "stdout",
     "output_type": "stream",
     "text": [
      "Ran experiment 10 of 10\n",
      "Precision: 0.868; recall: 0.513; F1: 0.448\n"
     ]
    }
   ],
   "source": [
    "y_true, y_pred = run_experiments(X, y, wordNgrams=1)\n",
    "evaluate_results(y_true, y_pred)"
   ]
  },
  {
   "cell_type": "code",
   "execution_count": 34,
   "id": "505faf42-d2a9-4c2a-a7c3-8ba28c363e7f",
   "metadata": {},
   "outputs": [
    {
     "data": {
      "image/png": "[encoded data removed]",
      "text/plain": [
       "<Figure size 576x432 with 2 Axes>"
      ]
     },
     "metadata": {
      "needs_background": "light"
     },
     "output_type": "display_data"
    }
   ],
   "source": [
    "cm = sklearn.metrics.confusion_matrix(y_true, y_pred)\n",
    "plot_confusion_matrix(cm, ['No causal relation', 'Has causal relation'], normalize=False)"
   ]
  },
  {
   "cell_type": "code",
   "execution_count": 27,
   "id": "a4ecce24-06af-4be8-bb03-e4ddfad853a3",
   "metadata": {},
   "outputs": [
    {
     "name": "stdout",
     "output_type": "stream",
     "text": [
      "Ran experiment 10 of 10\n",
      "Precision: 0.365; recall: 0.500; F1: 0.422\n"
     ]
    },
    {
     "name": "stderr",
     "output_type": "stream",
     "text": [
      "/Users/svenvanderburg/opt/anaconda3/envs/ssi-ml-cognitive-mapping/lib/python3.8/site-packages/sklearn/metrics/_classification.py:1248: UndefinedMetricWarning: Precision and F-score are ill-defined and being set to 0.0 in labels with no predicted samples. Use `zero_division` parameter to control this behavior.\n",
      "  _warn_prf(average, modifier, msg_start, len(result))\n"
     ]
    }
   ],
   "source": [
    "y_true, y_pred = run_experiments(X, y, wordNgrams=2)\n",
    "evaluate_results(y_true, y_pred)"
   ]
  },
  {
   "cell_type": "code",
   "execution_count": 28,
   "id": "8fb0b919-882a-48fa-90be-eadd122bc1e1",
   "metadata": {},
   "outputs": [
    {
     "name": "stdout",
     "output_type": "stream",
     "text": [
      "Ran experiment 10 of 10\n",
      "Precision: 0.365; recall: 0.500; F1: 0.422\n"
     ]
    },
    {
     "name": "stderr",
     "output_type": "stream",
     "text": [
      "/Users/svenvanderburg/opt/anaconda3/envs/ssi-ml-cognitive-mapping/lib/python3.8/site-packages/sklearn/metrics/_classification.py:1248: UndefinedMetricWarning: Precision and F-score are ill-defined and being set to 0.0 in labels with no predicted samples. Use `zero_division` parameter to control this behavior.\n",
      "  _warn_prf(average, modifier, msg_start, len(result))\n"
     ]
    }
   ],
   "source": [
    "y_true, y_pred = run_experiments(X, y, wordNgrams=3)\n",
    "evaluate_results(y_true, y_pred)"
   ]
  },
  {
   "cell_type": "code",
   "execution_count": 29,
   "id": "8e8563c2-d773-4ec3-b795-5bbd9f5ae53d",
   "metadata": {},
   "outputs": [
    {
     "name": "stdout",
     "output_type": "stream",
     "text": [
      "Ran experiment 10 of 10\n",
      "Precision: 0.669; recall: 0.641; F1: 0.650\n"
     ]
    }
   ],
   "source": [
    "y_true, y_pred = run_experiments(X, y, wordNgrams=1, pretrainedVectors='wiki.en.vec')\n",
    "evaluate_results(y_true, y_pred)"
   ]
  },
  {
   "cell_type": "code",
   "execution_count": 30,
   "id": "6d8f930f-c7b5-4203-bf01-28648a1ebcac",
   "metadata": {},
   "outputs": [
    {
     "name": "stdout",
     "output_type": "stream",
     "text": [
      "Ran experiment 10 of 10\n",
      "Precision: 0.689; recall: 0.622; F1: 0.635\n"
     ]
    }
   ],
   "source": [
    "y_true, y_pred = run_experiments(X, y, wordNgrams=2, pretrainedVectors='wiki.en.vec')\n",
    "evaluate_results(y_true, y_pred)"
   ]
  },
  {
   "cell_type": "code",
   "execution_count": 32,
   "id": "68b6d0c0-2c12-43ef-a692-a5136c68bbfa",
   "metadata": {},
   "outputs": [
    {
     "data": {
      "image/png": "[encoded data removed]",
      "text/plain": [
       "<Figure size 576x432 with 2 Axes>"
      ]
     },
     "metadata": {
      "needs_background": "light"
     },
     "output_type": "display_data"
    }
   ],
   "source": [
    "cm = sklearn.metrics.confusion_matrix(y_true, y_pred)\n",
    "plot_confusion_matrix(cm, ['No causal relation', 'Has causal relation'], normalize=False)"
   ]
  },
  {
   "cell_type": "code",
   "execution_count": 35,
   "id": "1a96ab52-c622-4bd3-a4dd-5576879c6671",
   "metadata": {},
   "outputs": [
    {
     "name": "stdout",
     "output_type": "stream",
     "text": [
      "Ran experiment 10 of 10\n",
      "Precision: 0.683; recall: 0.587; F1: 0.590\n"
     ]
    }
   ],
   "source": [
    "y_true, y_pred = run_experiments(X, y, wordNgrams=3, pretrainedVectors='wiki.en.vec')\n",
    "evaluate_results(y_true, y_pred)"
   ]
  },
  {
   "cell_type": "markdown",
   "id": "cc274d89-85b1-48e4-8e7e-7a0dc2d576af",
   "metadata": {},
   "source": [
    "| ngrams | language model | precision | recall | F1    |\n",
    "| ------ | -------------- | --------- | ------ | ---- |\n",
    "| 1      | no             | 0.868     | 0.513  | 0.448 |\n",
    "| 2      | no             | 0.365     | 0.500  | 0.422 |\n",
    "| 3      | no             | 0.365     | 0.500  | 0.422 |\n",
    "| 1      | yes            | 0.669     | 0.641  | 0.650 |\n",
    "| 2      | yes            | 0.689     | 0.622  | 0.635 |\n",
    "| 3      | yes            | 0.683     | 0.587  | 0.590 |"
   ]
  },
  {
   "cell_type": "code",
   "execution_count": null,
   "id": "38cd69ba-e6ee-4596-9b1a-34dd41f81f3e",
   "metadata": {},
   "outputs": [],
   "source": []
  }
 ],
 "metadata": {
  "kernelspec": {
   "display_name": "Python 3",
   "language": "python",
   "name": "python3"
  },
  "language_info": {
   "codemirror_mode": {
    "name": "ipython",
    "version": 3
   },
   "file_extension": ".py",
   "mimetype": "text/x-python",
   "name": "python",
   "nbconvert_exporter": "python",
   "pygments_lexer": "ipython3",
   "version": "3.8.10"
  },
  "toc-showtags": true
 },
 "nbformat": 4,
 "nbformat_minor": 5
}
