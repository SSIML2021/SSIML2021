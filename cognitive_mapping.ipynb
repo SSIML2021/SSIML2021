{
 "cells": [
  {
   "cell_type": "markdown",
   "id": "089fbb81-252b-4a37-ae57-2ac18449f52b",
   "metadata": {},
   "source": [
    "# Cognitive Mapping\n",
    "\n",
    "The data consists of text and relations, which have three parts (Concept1, Explanation and Concept2). Each of the three parts correspond to a multi-word phrase in a text. All relations and text can be easily read into a Jupyter notebook.\n",
    "\n",
    "The goal is to identify the three parts of the relation in a text automatically."
   ]
  },
  {
   "cell_type": "markdown",
   "id": "ec9d3328-c145-4c18-8dc5-d50c8d23ff60",
   "metadata": {},
   "source": [
    "**Example**: '3-2: <span style=\"background-color: lightblue;\">[concept Giving to the ECB the ultimate responsibility for supervision of banks in the euro area concept]</span> <span style=\"background-color: pink;\">[explanation will decisively contribute to increase explanation]</span> <span style=\"background-color: lightblue;\">[concept confidence between the banks concept]</span> <span style=\"background-color: pink;\">[explanation and in this way increase explanation]</span> <span style=\"background-color: lightblue;\">[concept the financial stability in the euro area concept]</span>. The euro area governments and the European institutions, including naturally the European Commission and the ECB, will do whatever is necessary to secure the financial stability of the euro area.\\n'"
   ]
  },
  {
   "cell_type": "markdown",
   "id": "14ff430e-e844-4f0f-b3b0-2ff56cc9d985",
   "metadata": {},
   "source": [
    "## 1. Plan\n",
    "    \n",
    "1. machine learning of paragraphs: do they contain a causal relation or not\n",
    "2. find phrases of relations in text: either concepts, explanations or not present in a relation\n",
    "3. identify relations based on recognized concept phrases and explanation phrases"
   ]
  },
  {
   "cell_type": "markdown",
   "id": "0513d999-5b0e-43f2-9d37-3309c833360a",
   "metadata": {},
   "source": [
    "We need a tagger or a entity recognition program, for example transformers, huggingface/bert: https://github.com/huggingface/transformers , or Spacy"
   ]
  },
  {
   "cell_type": "markdown",
   "id": "8689333d-47ed-4c9c-b13a-0c54e5104b3b",
   "metadata": {},
   "source": [
    "## 1.1. Data encoding for plan step 2\n",
    "\n",
    "contribute E\\\n",
    "to E\\\n",
    "increase E\\\n",
    "confidence C\\\n",
    "between C\\\n",
    "the C\\\n",
    "banks C\\\n",
    "the X"
   ]
  },
  {
   "cell_type": "markdown",
   "id": "31a47808-d4d9-416f-ab61-e59f6ce2f071",
   "metadata": {},
   "source": [
    "## 1.2. References\n",
    "\n",
    "Hosseini, M.J., Chambers, N., Reddy, S., Holt, X R., Cohen, S B., Johnson, M., & Steedman, M. (2018). Learning Typed Entailment Graphs with Global Soft Constraints, Transactions of the Association for Computational Linguistics. Sizov, G. & Ozturk, P. (2013). \n",
    "\n",
    "Automatic Extraction of Reasoning Chains from Textual Reports. Proceedings of TextGraphs-8 Workshop “Graph-based Methods for Natural Language Processing”, Empirical Methods in Natural Language Processing. \n",
    "\n",
    "https://colab.research.google.com/drive/14V9Ooy3aNPsRfTK88krwsereia8cfSPc?usp=sharing#scrollTo=H_kiqxjbW3lh"
   ]
  },
  {
   "cell_type": "markdown",
   "id": "8745012f-ea20-4006-ae0e-aff15c468406",
   "metadata": {},
   "source": [
    "## 2. Load data"
   ]
  },
  {
   "cell_type": "code",
   "execution_count": 1,
   "id": "fe46c347-e0da-4ec0-9324-1c6958d674c7",
   "metadata": {},
   "outputs": [],
   "source": [
    "import pandas as pd\n",
    "import re"
   ]
  },
  {
   "cell_type": "code",
   "execution_count": 2,
   "id": "a6f3e613-327d-4ed7-9f9f-bd3ebe90a9de",
   "metadata": {},
   "outputs": [],
   "source": [
    "REQUIRED_COLUMNS = \"Content_Concept_1 Content_Merged_Concept_1 Content_Relation_Explanation Content_Concept_2 Content_Merged_Concept_2 Content_Source_ID\".split()\n",
    "\n",
    "def read_relations(file_name):\n",
    "    return pd.read_csv(file_name).loc[:, REQUIRED_COLUMNS]"
   ]
  },
  {
   "cell_type": "code",
   "execution_count": 3,
   "id": "03c3d3b8-6788-4fde-8d9e-6699c8356093",
   "metadata": {},
   "outputs": [],
   "source": [
    "def read_paragraphs(file_name):\n",
    "    paragraph_list = []\n",
    "    data_file = open(file_name, \"r\", encoding=\"latin1\")\n",
    "    for line in data_file:\n",
    "        paragraph_list.append(line.strip())\n",
    "    data_file.close()\n",
    "    return paragraph_list"
   ]
  },
  {
   "cell_type": "code",
   "execution_count": 4,
   "id": "4bde4383-768f-40b5-aea2-e2298dc7f577",
   "metadata": {},
   "outputs": [],
   "source": [
    "relation_df = read_relations(\"Map_Contents.csv\")"
   ]
  },
  {
   "cell_type": "code",
   "execution_count": 5,
   "id": "4093a66d-1d37-4540-88e5-2390d467f6e8",
   "metadata": {},
   "outputs": [],
   "source": [
    "paragraph_list = read_paragraphs(\"2012-07-26 Barroso European Commission ann.txt\")"
   ]
  },
  {
   "cell_type": "code",
   "execution_count": 54,
   "id": "c41d031f-eaba-43c4-8a80-8a29d715f06c",
   "metadata": {},
   "outputs": [
    {
     "data": {
      "text/html": [
       "<div>\n",
       "<style scoped>\n",
       "    .dataframe tbody tr th:only-of-type {\n",
       "        vertical-align: middle;\n",
       "    }\n",
       "\n",
       "    .dataframe tbody tr th {\n",
       "        vertical-align: top;\n",
       "    }\n",
       "\n",
       "    .dataframe thead th {\n",
       "        text-align: right;\n",
       "    }\n",
       "</style>\n",
       "<table border=\"1\" class=\"dataframe\">\n",
       "  <thead>\n",
       "    <tr style=\"text-align: right;\">\n",
       "      <th></th>\n",
       "      <th>Content_Concept_1</th>\n",
       "      <th>Content_Merged_Concept_1</th>\n",
       "      <th>Content_Relation_Explanation</th>\n",
       "      <th>Content_Concept_2</th>\n",
       "      <th>Content_Merged_Concept_2</th>\n",
       "      <th>Content_Source_ID</th>\n",
       "    </tr>\n",
       "  </thead>\n",
       "  <tbody>\n",
       "    <tr>\n",
       "      <td>0</td>\n",
       "      <td>to ask Greece to reform</td>\n",
       "      <td>austerity programme problemstates</td>\n",
       "      <td>NaN</td>\n",
       "      <td>so this is why it is the right approach</td>\n",
       "      <td>Benefit of the MS</td>\n",
       "      <td>1-2</td>\n",
       "    </tr>\n",
       "    <tr>\n",
       "      <td>1</td>\n",
       "      <td>to increase its [Greece's] competitiveness</td>\n",
       "      <td>competitiveness</td>\n",
       "      <td>NaN</td>\n",
       "      <td>so this is why it is the right approach</td>\n",
       "      <td>Benefit of the MS</td>\n",
       "      <td>1-2</td>\n",
       "    </tr>\n",
       "    <tr>\n",
       "      <td>2</td>\n",
       "      <td>you in Greece, with out support, you need to r...</td>\n",
       "      <td>taking your own responsibility</td>\n",
       "      <td>to</td>\n",
       "      <td>increase the competitiveness of Greece</td>\n",
       "      <td>competitiveness</td>\n",
       "      <td>1-2</td>\n",
       "    </tr>\n",
       "    <tr>\n",
       "      <td>3</td>\n",
       "      <td>you in Greece, with out support, you need to r...</td>\n",
       "      <td>Structural reforms</td>\n",
       "      <td>to</td>\n",
       "      <td>increase the competitiveness of Greece</td>\n",
       "      <td>competitiveness</td>\n",
       "      <td>1-2</td>\n",
       "    </tr>\n",
       "    <tr>\n",
       "      <td>4</td>\n",
       "      <td>you in Greece, with out support, you need to r...</td>\n",
       "      <td>Improve the national administration</td>\n",
       "      <td>to</td>\n",
       "      <td>increase the competitiveness of Greece</td>\n",
       "      <td>competitiveness</td>\n",
       "      <td>1-2</td>\n",
       "    </tr>\n",
       "    <tr>\n",
       "      <td>5</td>\n",
       "      <td>you in Greece, with out support, you need to r...</td>\n",
       "      <td>Economic policy change</td>\n",
       "      <td>to</td>\n",
       "      <td>increase the competitiveness of Greece</td>\n",
       "      <td>competitiveness</td>\n",
       "      <td>1-2</td>\n",
       "    </tr>\n",
       "    <tr>\n",
       "      <td>6</td>\n",
       "      <td>you in Greece, with out support, you need to r...</td>\n",
       "      <td>taking your own responsibility</td>\n",
       "      <td>and the best hope of a</td>\n",
       "      <td>return to growth</td>\n",
       "      <td>economic growth</td>\n",
       "      <td>1-2</td>\n",
       "    </tr>\n",
       "    <tr>\n",
       "      <td>7</td>\n",
       "      <td>you in Greece, with out support, you need to r...</td>\n",
       "      <td>Structural reforms</td>\n",
       "      <td>and the best hope of a</td>\n",
       "      <td>return to growth</td>\n",
       "      <td>economic growth</td>\n",
       "      <td>1-2</td>\n",
       "    </tr>\n",
       "    <tr>\n",
       "      <td>8</td>\n",
       "      <td>you in Greece, with out support, you need to r...</td>\n",
       "      <td>Improve the national administration</td>\n",
       "      <td>and the best hope of a</td>\n",
       "      <td>return to growth</td>\n",
       "      <td>economic growth</td>\n",
       "      <td>1-2</td>\n",
       "    </tr>\n",
       "    <tr>\n",
       "      <td>9</td>\n",
       "      <td>you in Greece, with out support, you need to r...</td>\n",
       "      <td>Economic policy change</td>\n",
       "      <td>and the best hope of a</td>\n",
       "      <td>return to growth</td>\n",
       "      <td>economic growth</td>\n",
       "      <td>1-2</td>\n",
       "    </tr>\n",
       "    <tr>\n",
       "      <td>10</td>\n",
       "      <td>you in Greece, with out support, you need to r...</td>\n",
       "      <td>taking your own responsibility</td>\n",
       "      <td>and the best hope of a</td>\n",
       "      <td>return to job creation</td>\n",
       "      <td>Employment</td>\n",
       "      <td>1-2</td>\n",
       "    </tr>\n",
       "    <tr>\n",
       "      <td>11</td>\n",
       "      <td>you in Greece, with out support, you need to r...</td>\n",
       "      <td>Structural reforms</td>\n",
       "      <td>and the best hope of a</td>\n",
       "      <td>return to job creation</td>\n",
       "      <td>Employment</td>\n",
       "      <td>1-2</td>\n",
       "    </tr>\n",
       "    <tr>\n",
       "      <td>12</td>\n",
       "      <td>you in Greece, with out support, you need to r...</td>\n",
       "      <td>Improve the national administration</td>\n",
       "      <td>and the best hope of a</td>\n",
       "      <td>return to job creation</td>\n",
       "      <td>Employment</td>\n",
       "      <td>1-2</td>\n",
       "    </tr>\n",
       "    <tr>\n",
       "      <td>13</td>\n",
       "      <td>you in Greece, with out support, you need to r...</td>\n",
       "      <td>Economic policy change</td>\n",
       "      <td>and the best hope of a</td>\n",
       "      <td>return to job creation</td>\n",
       "      <td>Employment</td>\n",
       "      <td>1-2</td>\n",
       "    </tr>\n",
       "    <tr>\n",
       "      <td>14</td>\n",
       "      <td>we have taken important, fundamental decisions</td>\n",
       "      <td>Government and ECB crisis measures</td>\n",
       "      <td>to safeguard</td>\n",
       "      <td>the stability of the euro area</td>\n",
       "      <td>Stability of Eurozone</td>\n",
       "      <td>2-3</td>\n",
       "    </tr>\n",
       "    <tr>\n",
       "      <td>15</td>\n",
       "      <td>we need sustained effort and determination</td>\n",
       "      <td>Mutual European effort</td>\n",
       "      <td>as we said there will not be</td>\n",
       "      <td>magic solutions</td>\n",
       "      <td>solving the crisis</td>\n",
       "      <td>2-3</td>\n",
       "    </tr>\n",
       "    <tr>\n",
       "      <td>16</td>\n",
       "      <td>Giving to the ECB the ultimate responsibility ...</td>\n",
       "      <td>Single Supervisory Mechanism [SSM]</td>\n",
       "      <td>will devisively contribute to increase</td>\n",
       "      <td>confidence between the banks</td>\n",
       "      <td>Trust in financial markets</td>\n",
       "      <td>3-2</td>\n",
       "    </tr>\n",
       "    <tr>\n",
       "      <td>17</td>\n",
       "      <td>confidence between the banks</td>\n",
       "      <td>Trust in financial markets</td>\n",
       "      <td>and in this way</td>\n",
       "      <td>increase the financial stability in the euro area</td>\n",
       "      <td>Stability of Eurozone</td>\n",
       "      <td>3-2</td>\n",
       "    </tr>\n",
       "  </tbody>\n",
       "</table>\n",
       "</div>"
      ],
      "text/plain": [
       "                                    Content_Concept_1  \\\n",
       "0                             to ask Greece to reform   \n",
       "1          to increase its [Greece's] competitiveness   \n",
       "2   you in Greece, with out support, you need to r...   \n",
       "3   you in Greece, with out support, you need to r...   \n",
       "4   you in Greece, with out support, you need to r...   \n",
       "5   you in Greece, with out support, you need to r...   \n",
       "6   you in Greece, with out support, you need to r...   \n",
       "7   you in Greece, with out support, you need to r...   \n",
       "8   you in Greece, with out support, you need to r...   \n",
       "9   you in Greece, with out support, you need to r...   \n",
       "10  you in Greece, with out support, you need to r...   \n",
       "11  you in Greece, with out support, you need to r...   \n",
       "12  you in Greece, with out support, you need to r...   \n",
       "13  you in Greece, with out support, you need to r...   \n",
       "14     we have taken important, fundamental decisions   \n",
       "15         we need sustained effort and determination   \n",
       "16  Giving to the ECB the ultimate responsibility ...   \n",
       "17                       confidence between the banks   \n",
       "\n",
       "               Content_Merged_Concept_1  \\\n",
       "0     austerity programme problemstates   \n",
       "1                       competitiveness   \n",
       "2        taking your own responsibility   \n",
       "3                    Structural reforms   \n",
       "4   Improve the national administration   \n",
       "5                Economic policy change   \n",
       "6        taking your own responsibility   \n",
       "7                    Structural reforms   \n",
       "8   Improve the national administration   \n",
       "9                Economic policy change   \n",
       "10       taking your own responsibility   \n",
       "11                   Structural reforms   \n",
       "12  Improve the national administration   \n",
       "13               Economic policy change   \n",
       "14   Government and ECB crisis measures   \n",
       "15               Mutual European effort   \n",
       "16   Single Supervisory Mechanism [SSM]   \n",
       "17           Trust in financial markets   \n",
       "\n",
       "              Content_Relation_Explanation  \\\n",
       "0                                      NaN   \n",
       "1                                      NaN   \n",
       "2                                       to   \n",
       "3                                       to   \n",
       "4                                       to   \n",
       "5                                       to   \n",
       "6                   and the best hope of a   \n",
       "7                   and the best hope of a   \n",
       "8                   and the best hope of a   \n",
       "9                   and the best hope of a   \n",
       "10                  and the best hope of a   \n",
       "11                  and the best hope of a   \n",
       "12                  and the best hope of a   \n",
       "13                  and the best hope of a   \n",
       "14                            to safeguard   \n",
       "15            as we said there will not be   \n",
       "16  will devisively contribute to increase   \n",
       "17                         and in this way   \n",
       "\n",
       "                                    Content_Concept_2  \\\n",
       "0             so this is why it is the right approach   \n",
       "1             so this is why it is the right approach   \n",
       "2              increase the competitiveness of Greece   \n",
       "3              increase the competitiveness of Greece   \n",
       "4              increase the competitiveness of Greece   \n",
       "5              increase the competitiveness of Greece   \n",
       "6                                    return to growth   \n",
       "7                                    return to growth   \n",
       "8                                    return to growth   \n",
       "9                                    return to growth   \n",
       "10                             return to job creation   \n",
       "11                             return to job creation   \n",
       "12                             return to job creation   \n",
       "13                             return to job creation   \n",
       "14                     the stability of the euro area   \n",
       "15                                    magic solutions   \n",
       "16                       confidence between the banks   \n",
       "17  increase the financial stability in the euro area   \n",
       "\n",
       "      Content_Merged_Concept_2 Content_Source_ID  \n",
       "0            Benefit of the MS               1-2  \n",
       "1            Benefit of the MS               1-2  \n",
       "2              competitiveness               1-2  \n",
       "3              competitiveness               1-2  \n",
       "4              competitiveness               1-2  \n",
       "5              competitiveness               1-2  \n",
       "6              economic growth               1-2  \n",
       "7              economic growth               1-2  \n",
       "8              economic growth               1-2  \n",
       "9              economic growth               1-2  \n",
       "10                  Employment               1-2  \n",
       "11                  Employment               1-2  \n",
       "12                  Employment               1-2  \n",
       "13                  Employment               1-2  \n",
       "14       Stability of Eurozone               2-3  \n",
       "15          solving the crisis               2-3  \n",
       "16  Trust in financial markets               3-2  \n",
       "17       Stability of Eurozone               3-2  "
      ]
     },
     "execution_count": 54,
     "metadata": {},
     "output_type": "execute_result"
    }
   ],
   "source": [
    "relation_df"
   ]
  },
  {
   "cell_type": "code",
   "execution_count": 53,
   "id": "21c99135-bddf-4b62-954b-5553a5e576f1",
   "metadata": {},
   "outputs": [
    {
     "data": {
      "text/plain": [
       "['Statement by President Barroso following his meeting with Mr Antonis Samaras, Prime Minister of Greece',\n",
       " 'Press point/Athens',\n",
       " '26 July 2012',\n",
       " '',\n",
       " 'http://europa.eu/rapid/press-release_SPEECH-12-571_en.htm',\n",
       " 'Thank you very much.',\n",
       " \"I really want to thank my good friend Antonis Samaras for the invitation. I really appreciate our friendship and the Prime Minister's clear commitment to Europe. This is so crucial during these difficult times. And I know that this aspiration and this determination are shared by the two other respective leaders of the coalition government Mr Venizelos and Mr Kouvelis and I want to thank them also for their strong pro-European commitment.\",\n",
       " '1-2: Today I want to send a clear message to the people of this great country, of Greece. I know that many people feel without hope. Many are making extremely difficult sacrifices. And many people ask why they should do more. I understand those concerns. And I agree that some of the efforts seem unfair. But I ask people to recognise the other alternatives which will be much more difficult for Greece and will affect even more the most vulnerable in the Greek society. So this is why it is the right approach to ask Greece to reform, to increase its competitiveness to have a viable future, irrespective of the crisis. You, in Greece, with our support, need to rebuild your country, your structures, your administration, your economy to increase the competitiveness of Greece. And the best hope of a return to growth and job creation is inside the euro area. Staying in the euro is the best chance to avoid worse hardship and difficulties to the Greek people, namely for those in a more vulnerable position',\n",
       " 'The Prime Minister has assured me that the coalition government will respect the commitments under the second programme and will speed up the key structural reforms that are needed, including the privatisation process and of course, also the reforms in the public administration, for instance, the reform against the tax evasion. The key word here is: deliver. Deliver, deliver, deliver. The main issue is implementation to deliver results. To maintain the trust of European and international partners, the delays must end. Words are not enough. Actions are much more important. Following my meeting with Prime Minister Samaras, I am reassured that this delivery will happen.',\n",
       " 'In return I have been unequivocal that the European Commission will stand by Greece. I am here as a friend of Greece. I have repeatedly stated that Greece can make it, together Greece and Europe will make it. Greece is part of the European family and the euro area and we intend to keep it that way. All the heads of state and government of the euro area have stated in the clearest possible terms that Greece should stay in the euro as long as the commitments made are honoured. And there has been solidarity towards Greece. The European Union and the wider international community have shown unprecedented solidarity with the people of Greece. We need a new consensus on reform and development so that Greece can grow again for the benefit of its citizens.',\n",
       " \"The Commission's Task Force for Greece that was established at my initiative, is working to reform the public sector, cut red tape, improve the business environment and assist the Greek authorities in the mobilisation of European structural funds. I can confirm that 181 priority projects will be financed through \\x8012 billion in structural funds for growth and jobs. And of course in all the other policies there are also ways of supporting Greece. For instance we are now discussing the future Multiannual Financial Framework, the budget for the next seven years, and certainly the European Commission will support. And indeed we are proposing a more integrated policy in Europe when it comes to migration issues so that we can have as much as possible a coherent response to the problems of illegal migration in many of our countries and this of course also applies to Greece.\",\n",
       " 'So my message is: the Greek people do not stand alone. There is hope. And we will be there to help you. I come out of this meeting with a renewed sense of confidence that the coalition government is committed to the reform process and that this can be done.',\n",
       " 'Ladies and gentlemen,',\n",
       " '2-3: To conclude, let me say a few words on the euro area more generally. We have taken important, fundamental decisions over the last couple of months to safeguard the stability of the euro area, and indeed we are now in the phase of implementation. A number of governments have embarked on a path of reform and fiscal consolidation that was unthinkable only very recently, and they have taken important decisions and I encourage them to keep this determination. These reforms are now being implemented and this effort must continue with credibility, with consistency, with coherence over time. As we said there will not be magic solutions. We need sustained efforts and determination. At the same time, the existing financial backstops are being used as necessary. Most recently, the financial assistance to the recapitalisation of Spanish banks has been agreed and is ready for implementation.',\n",
       " '3-1: At European level, the Commission is working intensively towards the creation of a banking union. In early September we will make a legislative proposal for a single supervisory mechanism. This will rely on the ECB as regards the euro area. We will propose to assign to the ECB supervisory tasks in full separation from its independent monetary policy responsibilities.',\n",
       " '3-2: Giving to the ECB the ultimate responsibility for supervision of banks in the euro area will decisively contribute to increase confidence between the banks and in this way increase the financial stability in the euro area. The euro area governments and the European institutions, including naturally the European Commission and the ECB, will do whatever is necessary to secure the financial stability of the euro area.',\n",
       " '3-3: And this I my final word to you: I think all of us in the Euro area and in the European Union should join hands and work together in Greece and in the other countries for the future of our common currency, for the future of our European project. Sometimes I fear that some people have not yet understood that we are all in the same boat. We are really all in the same boat in Europe. That is why together Greeks and all the other Europeans should show the same resolve for the very important commitments that have been taken.',\n",
       " 'I thank you for your attention.',\n",
       " '',\n",
       " '1',\n",
       " '',\n",
       " '']"
      ]
     },
     "execution_count": 53,
     "metadata": {},
     "output_type": "execute_result"
    }
   ],
   "source": [
    "paragraph_list"
   ]
  },
  {
   "cell_type": "code",
   "execution_count": 52,
   "id": "be2cecea-6b9b-45fa-a91a-d7e33c2114aa",
   "metadata": {},
   "outputs": [
    {
     "data": {
      "text/html": [
       "<div>\n",
       "<style scoped>\n",
       "    .dataframe tbody tr th:only-of-type {\n",
       "        vertical-align: middle;\n",
       "    }\n",
       "\n",
       "    .dataframe tbody tr th {\n",
       "        vertical-align: top;\n",
       "    }\n",
       "\n",
       "    .dataframe thead th {\n",
       "        text-align: right;\n",
       "    }\n",
       "</style>\n",
       "<table border=\"1\" class=\"dataframe\">\n",
       "  <thead>\n",
       "    <tr style=\"text-align: right;\">\n",
       "      <th></th>\n",
       "      <th>Content_Concept_1</th>\n",
       "      <th>Content_Merged_Concept_1</th>\n",
       "      <th>Content_Relation_Explanation</th>\n",
       "      <th>Content_Concept_2</th>\n",
       "      <th>Content_Merged_Concept_2</th>\n",
       "      <th>Content_Source_ID</th>\n",
       "    </tr>\n",
       "  </thead>\n",
       "  <tbody>\n",
       "    <tr>\n",
       "      <td>0</td>\n",
       "      <td>to ask Greece to reform</td>\n",
       "      <td>austerity programme problemstates</td>\n",
       "      <td>NaN</td>\n",
       "      <td>so this is why it is the right approach</td>\n",
       "      <td>Benefit of the MS</td>\n",
       "      <td>1-2</td>\n",
       "    </tr>\n",
       "    <tr>\n",
       "      <td>1</td>\n",
       "      <td>to increase its [Greece's] competitiveness</td>\n",
       "      <td>competitiveness</td>\n",
       "      <td>NaN</td>\n",
       "      <td>so this is why it is the right approach</td>\n",
       "      <td>Benefit of the MS</td>\n",
       "      <td>1-2</td>\n",
       "    </tr>\n",
       "    <tr>\n",
       "      <td>2</td>\n",
       "      <td>you in Greece, with out support, you need to r...</td>\n",
       "      <td>taking your own responsibility</td>\n",
       "      <td>to</td>\n",
       "      <td>increase the competitiveness of Greece</td>\n",
       "      <td>competitiveness</td>\n",
       "      <td>1-2</td>\n",
       "    </tr>\n",
       "    <tr>\n",
       "      <td>3</td>\n",
       "      <td>you in Greece, with out support, you need to r...</td>\n",
       "      <td>Structural reforms</td>\n",
       "      <td>to</td>\n",
       "      <td>increase the competitiveness of Greece</td>\n",
       "      <td>competitiveness</td>\n",
       "      <td>1-2</td>\n",
       "    </tr>\n",
       "    <tr>\n",
       "      <td>4</td>\n",
       "      <td>you in Greece, with out support, you need to r...</td>\n",
       "      <td>Improve the national administration</td>\n",
       "      <td>to</td>\n",
       "      <td>increase the competitiveness of Greece</td>\n",
       "      <td>competitiveness</td>\n",
       "      <td>1-2</td>\n",
       "    </tr>\n",
       "    <tr>\n",
       "      <td>5</td>\n",
       "      <td>you in Greece, with out support, you need to r...</td>\n",
       "      <td>Economic policy change</td>\n",
       "      <td>to</td>\n",
       "      <td>increase the competitiveness of Greece</td>\n",
       "      <td>competitiveness</td>\n",
       "      <td>1-2</td>\n",
       "    </tr>\n",
       "    <tr>\n",
       "      <td>6</td>\n",
       "      <td>you in Greece, with out support, you need to r...</td>\n",
       "      <td>taking your own responsibility</td>\n",
       "      <td>and the best hope of a</td>\n",
       "      <td>return to growth</td>\n",
       "      <td>economic growth</td>\n",
       "      <td>1-2</td>\n",
       "    </tr>\n",
       "    <tr>\n",
       "      <td>7</td>\n",
       "      <td>you in Greece, with out support, you need to r...</td>\n",
       "      <td>Structural reforms</td>\n",
       "      <td>and the best hope of a</td>\n",
       "      <td>return to growth</td>\n",
       "      <td>economic growth</td>\n",
       "      <td>1-2</td>\n",
       "    </tr>\n",
       "    <tr>\n",
       "      <td>8</td>\n",
       "      <td>you in Greece, with out support, you need to r...</td>\n",
       "      <td>Improve the national administration</td>\n",
       "      <td>and the best hope of a</td>\n",
       "      <td>return to growth</td>\n",
       "      <td>economic growth</td>\n",
       "      <td>1-2</td>\n",
       "    </tr>\n",
       "    <tr>\n",
       "      <td>9</td>\n",
       "      <td>you in Greece, with out support, you need to r...</td>\n",
       "      <td>Economic policy change</td>\n",
       "      <td>and the best hope of a</td>\n",
       "      <td>return to growth</td>\n",
       "      <td>economic growth</td>\n",
       "      <td>1-2</td>\n",
       "    </tr>\n",
       "    <tr>\n",
       "      <td>10</td>\n",
       "      <td>you in Greece, with out support, you need to r...</td>\n",
       "      <td>taking your own responsibility</td>\n",
       "      <td>and the best hope of a</td>\n",
       "      <td>return to job creation</td>\n",
       "      <td>Employment</td>\n",
       "      <td>1-2</td>\n",
       "    </tr>\n",
       "    <tr>\n",
       "      <td>11</td>\n",
       "      <td>you in Greece, with out support, you need to r...</td>\n",
       "      <td>Structural reforms</td>\n",
       "      <td>and the best hope of a</td>\n",
       "      <td>return to job creation</td>\n",
       "      <td>Employment</td>\n",
       "      <td>1-2</td>\n",
       "    </tr>\n",
       "    <tr>\n",
       "      <td>12</td>\n",
       "      <td>you in Greece, with out support, you need to r...</td>\n",
       "      <td>Improve the national administration</td>\n",
       "      <td>and the best hope of a</td>\n",
       "      <td>return to job creation</td>\n",
       "      <td>Employment</td>\n",
       "      <td>1-2</td>\n",
       "    </tr>\n",
       "    <tr>\n",
       "      <td>13</td>\n",
       "      <td>you in Greece, with out support, you need to r...</td>\n",
       "      <td>Economic policy change</td>\n",
       "      <td>and the best hope of a</td>\n",
       "      <td>return to job creation</td>\n",
       "      <td>Employment</td>\n",
       "      <td>1-2</td>\n",
       "    </tr>\n",
       "    <tr>\n",
       "      <td>14</td>\n",
       "      <td>we have taken important, fundamental decisions</td>\n",
       "      <td>Government and ECB crisis measures</td>\n",
       "      <td>to safeguard</td>\n",
       "      <td>the stability of the euro area</td>\n",
       "      <td>Stability of Eurozone</td>\n",
       "      <td>2-3</td>\n",
       "    </tr>\n",
       "    <tr>\n",
       "      <td>15</td>\n",
       "      <td>we need sustained effort and determination</td>\n",
       "      <td>Mutual European effort</td>\n",
       "      <td>as we said there will not be</td>\n",
       "      <td>magic solutions</td>\n",
       "      <td>solving the crisis</td>\n",
       "      <td>2-3</td>\n",
       "    </tr>\n",
       "    <tr>\n",
       "      <td>16</td>\n",
       "      <td>Giving to the ECB the ultimate responsibility ...</td>\n",
       "      <td>Single Supervisory Mechanism [SSM]</td>\n",
       "      <td>will devisively contribute to increase</td>\n",
       "      <td>confidence between the banks</td>\n",
       "      <td>Trust in financial markets</td>\n",
       "      <td>3-2</td>\n",
       "    </tr>\n",
       "    <tr>\n",
       "      <td>17</td>\n",
       "      <td>confidence between the banks</td>\n",
       "      <td>Trust in financial markets</td>\n",
       "      <td>and in this way</td>\n",
       "      <td>increase the financial stability in the euro area</td>\n",
       "      <td>Stability of Eurozone</td>\n",
       "      <td>3-2</td>\n",
       "    </tr>\n",
       "  </tbody>\n",
       "</table>\n",
       "</div>"
      ],
      "text/plain": [
       "                                    Content_Concept_1  \\\n",
       "0                             to ask Greece to reform   \n",
       "1          to increase its [Greece's] competitiveness   \n",
       "2   you in Greece, with out support, you need to r...   \n",
       "3   you in Greece, with out support, you need to r...   \n",
       "4   you in Greece, with out support, you need to r...   \n",
       "5   you in Greece, with out support, you need to r...   \n",
       "6   you in Greece, with out support, you need to r...   \n",
       "7   you in Greece, with out support, you need to r...   \n",
       "8   you in Greece, with out support, you need to r...   \n",
       "9   you in Greece, with out support, you need to r...   \n",
       "10  you in Greece, with out support, you need to r...   \n",
       "11  you in Greece, with out support, you need to r...   \n",
       "12  you in Greece, with out support, you need to r...   \n",
       "13  you in Greece, with out support, you need to r...   \n",
       "14     we have taken important, fundamental decisions   \n",
       "15         we need sustained effort and determination   \n",
       "16  Giving to the ECB the ultimate responsibility ...   \n",
       "17                       confidence between the banks   \n",
       "\n",
       "               Content_Merged_Concept_1  \\\n",
       "0     austerity programme problemstates   \n",
       "1                       competitiveness   \n",
       "2        taking your own responsibility   \n",
       "3                    Structural reforms   \n",
       "4   Improve the national administration   \n",
       "5                Economic policy change   \n",
       "6        taking your own responsibility   \n",
       "7                    Structural reforms   \n",
       "8   Improve the national administration   \n",
       "9                Economic policy change   \n",
       "10       taking your own responsibility   \n",
       "11                   Structural reforms   \n",
       "12  Improve the national administration   \n",
       "13               Economic policy change   \n",
       "14   Government and ECB crisis measures   \n",
       "15               Mutual European effort   \n",
       "16   Single Supervisory Mechanism [SSM]   \n",
       "17           Trust in financial markets   \n",
       "\n",
       "              Content_Relation_Explanation  \\\n",
       "0                                      NaN   \n",
       "1                                      NaN   \n",
       "2                                       to   \n",
       "3                                       to   \n",
       "4                                       to   \n",
       "5                                       to   \n",
       "6                   and the best hope of a   \n",
       "7                   and the best hope of a   \n",
       "8                   and the best hope of a   \n",
       "9                   and the best hope of a   \n",
       "10                  and the best hope of a   \n",
       "11                  and the best hope of a   \n",
       "12                  and the best hope of a   \n",
       "13                  and the best hope of a   \n",
       "14                            to safeguard   \n",
       "15            as we said there will not be   \n",
       "16  will devisively contribute to increase   \n",
       "17                         and in this way   \n",
       "\n",
       "                                    Content_Concept_2  \\\n",
       "0             so this is why it is the right approach   \n",
       "1             so this is why it is the right approach   \n",
       "2              increase the competitiveness of Greece   \n",
       "3              increase the competitiveness of Greece   \n",
       "4              increase the competitiveness of Greece   \n",
       "5              increase the competitiveness of Greece   \n",
       "6                                    return to growth   \n",
       "7                                    return to growth   \n",
       "8                                    return to growth   \n",
       "9                                    return to growth   \n",
       "10                             return to job creation   \n",
       "11                             return to job creation   \n",
       "12                             return to job creation   \n",
       "13                             return to job creation   \n",
       "14                     the stability of the euro area   \n",
       "15                                    magic solutions   \n",
       "16                       confidence between the banks   \n",
       "17  increase the financial stability in the euro area   \n",
       "\n",
       "      Content_Merged_Concept_2 Content_Source_ID  \n",
       "0            Benefit of the MS               1-2  \n",
       "1            Benefit of the MS               1-2  \n",
       "2              competitiveness               1-2  \n",
       "3              competitiveness               1-2  \n",
       "4              competitiveness               1-2  \n",
       "5              competitiveness               1-2  \n",
       "6              economic growth               1-2  \n",
       "7              economic growth               1-2  \n",
       "8              economic growth               1-2  \n",
       "9              economic growth               1-2  \n",
       "10                  Employment               1-2  \n",
       "11                  Employment               1-2  \n",
       "12                  Employment               1-2  \n",
       "13                  Employment               1-2  \n",
       "14       Stability of Eurozone               2-3  \n",
       "15          solving the crisis               2-3  \n",
       "16  Trust in financial markets               3-2  \n",
       "17       Stability of Eurozone               3-2  "
      ]
     },
     "execution_count": 52,
     "metadata": {},
     "output_type": "execute_result"
    }
   ],
   "source": [
    "relation_df"
   ]
  },
  {
   "cell_type": "markdown",
   "id": "277ae0f9-7d23-4d78-9f3d-f36b2542186e",
   "metadata": {},
   "source": [
    "## 3. Causal concepts\n",
    "\n",
    "Utility relations: A is good for B, or A is a good thing, where B is defined as the benefit of society.\n",
    "\n",
    "We are interested in causal relations."
   ]
  },
  {
   "cell_type": "code",
   "execution_count": 6,
   "id": "045c5cfc-1d54-4418-a1b0-555fcf36e25c",
   "metadata": {},
   "outputs": [
    {
     "data": {
      "text/plain": [
       "{'to': 6,\n",
       " 'and': 9,\n",
       " 'the': 8,\n",
       " 'best': 8,\n",
       " 'hope': 8,\n",
       " 'of': 8,\n",
       " 'a': 8,\n",
       " 'safeguard': 1,\n",
       " 'as': 1,\n",
       " 'we': 1,\n",
       " 'said': 1,\n",
       " 'there': 1,\n",
       " 'will': 2,\n",
       " 'not': 1,\n",
       " 'be': 1,\n",
       " 'devisively': 1,\n",
       " 'contribute': 1,\n",
       " 'increase': 1,\n",
       " 'in': 1,\n",
       " 'this': 1,\n",
       " 'way': 1}"
      ]
     },
     "execution_count": 6,
     "metadata": {},
     "output_type": "execute_result"
    }
   ],
   "source": [
    "token_dict = {}\n",
    "for i, row in relation_df.iterrows():\n",
    "    if not re.search(\"benefit\", row[\"Content_Merged_Concept_2\"], flags=re.IGNORECASE):\n",
    "        token_list = row[\"Content_Relation_Explanation\"].split()\n",
    "        for token in token_list:\n",
    "            if token not in token_dict:\n",
    "                token_dict[token] = 0\n",
    "            token_dict[token] += 1\n",
    "token_dict"
   ]
  },
  {
   "cell_type": "markdown",
   "id": "cb87bac0-bf3c-41b5-b515-1d89650bbc30",
   "metadata": {},
   "source": [
    "## 4. Task 1: Predict presence of causal relations in paragraphs\n",
    "\n",
    "Steps:\n",
    "\n",
    "1. store the paragraphs in the data structure X (data) after separating punctuation from words and replacing upper case by lower case\n",
    "2. create a data structure y (labels) with True for paragraphs with causal relations and False for others\n",
    "3. predict a label for each paragraph with a machine learning model generated from the other paragraphs\n",
    "4. evaluate the results\n",
    "\n",
    "The code in this task uses the packages `fasttext` (for machine learning) and `nltk` (for language processing) \n",
    "\n",
    "The task uses limited natural language processing to prepare the data for machine leaning:\n",
    "\n",
    "1. tokenization: separate punctuation from words\n",
    "2. conversion of upper case characters to lower case\n",
    "\n",
    "Other interesting natural language preprocessing steps:\n",
    "\n",
    "3. part-of-tagging\n",
    "4. full parsing (Stanford parser)"
   ]
  },
  {
   "cell_type": "code",
   "execution_count": 40,
   "id": "b4d7262f-1043-4264-9bd0-995a2167e1af",
   "metadata": {},
   "outputs": [],
   "source": [
    "import fasttext\n",
    "from nltk.tokenize import word_tokenize"
   ]
  },
  {
   "cell_type": "code",
   "execution_count": 41,
   "id": "e20911f3-f594-4e2c-9d02-ec4feb724e7a",
   "metadata": {},
   "outputs": [],
   "source": [
    "def make_X(paragraph_list):\n",
    "    X = {}\n",
    "    for paragraph in paragraph_list:\n",
    "        tokens = paragraph.split()\n",
    "        if len(tokens) > 0 and re.search(r'^\\d+-\\d+:$', tokens[0]):\n",
    "            key = re.sub(\":\", \"\", tokens[0])\n",
    "            X[key] = \" \".join(word_tokenize(\" \".join(tokens[1:]))).lower()\n",
    "    return X          "
   ]
  },
  {
   "cell_type": "code",
   "execution_count": 42,
   "id": "b3c0cafe-cf25-40dd-b376-8e72aa1b8ce3",
   "metadata": {},
   "outputs": [],
   "source": [
    "def make_y(relation_df, X):\n",
    "    y = {}\n",
    "    for i, row in relation_df.iterrows():\n",
    "        if not re.search(\"benefit\", row[\"Content_Merged_Concept_2\"], flags=re.IGNORECASE):\n",
    "            y[row[\"Content_Source_ID\"]] = True\n",
    "    for key in X:\n",
    "        if key not in y:\n",
    "            y[key] = False\n",
    "    return y"
   ]
  },
  {
   "cell_type": "code",
   "execution_count": 43,
   "id": "af520e25-eac0-4583-baff-d45520d6ae47",
   "metadata": {},
   "outputs": [],
   "source": [
    "def make_train_test(X, y, test_index=0):\n",
    "    train_list = []\n",
    "    test_list = []\n",
    "    index = 0\n",
    "    for key in sorted(X.keys()):\n",
    "        if index == test_index:\n",
    "            test_list.append(f\"__label__{str(y[key])} {X[key]}\")\n",
    "        else:\n",
    "            train_list.append(f\"__label__{str(y[key])} {X[key]}\")\n",
    "        index += 1\n",
    "    return train_list, test_list"
   ]
  },
  {
   "cell_type": "code",
   "execution_count": 44,
   "id": "252e8127-40a4-493a-bc12-c9b976a5eff9",
   "metadata": {},
   "outputs": [],
   "source": [
    "def make_train_file(file_name, train_list):\n",
    "    data_file = open(file_name, \"w\")\n",
    "    for line in train_list:\n",
    "        print(line, file=data_file)\n",
    "    data_file.close()"
   ]
  },
  {
   "cell_type": "code",
   "execution_count": 45,
   "id": "4507f68a-d422-4191-91f1-6665f29e9aa1",
   "metadata": {},
   "outputs": [],
   "source": [
    "def decode_label(label):\n",
    "    return re.sub(\"__label__\", \"\", label)"
   ]
  },
  {
   "cell_type": "code",
   "execution_count": 46,
   "id": "1859e3e5-7d48-4971-a28b-5c5153053bbb",
   "metadata": {},
   "outputs": [],
   "source": [
    "def show_results(results):\n",
    "    return pd.DataFrame(list(results.values()), index=list(results.keys()))"
   ]
  },
  {
   "cell_type": "code",
   "execution_count": 47,
   "id": "1f4ae21e-d32c-4d7b-88aa-85b201702b56",
   "metadata": {},
   "outputs": [],
   "source": [
    "def evaluate_results(results):\n",
    "    correct_count = 0\n",
    "    for key in results:\n",
    "        if decode_label(results[key][\"predicted\"]) == str(results[key][\"correct\"]):\n",
    "            correct_count += 1\n",
    "    return correct_count/len(results)"
   ]
  },
  {
   "cell_type": "code",
   "execution_count": 48,
   "id": "56756643-6a9f-4561-8e3b-ef09dccccf0f",
   "metadata": {},
   "outputs": [],
   "source": [
    "X = make_X(paragraph_list)\n",
    "y = make_y(relation_df, X)"
   ]
  },
  {
   "cell_type": "code",
   "execution_count": 56,
   "id": "b7c74262-f8ca-42fd-8a03-0e172ba81841",
   "metadata": {},
   "outputs": [],
   "source": [
    "results = {}\n",
    "for i in range(0, len(X)):\n",
    "    key = list(sorted(X.keys()))[i]\n",
    "    train_list, test_list = make_train_test(X, y, i)\n",
    "    make_train_file(\"train_file.txt\", train_list)\n",
    "    model = fasttext.train_supervised(\"train_file.txt\", dim=10, dictionary_file=...)\n",
    "    predicted_label = model.predict(test_list)\n",
    "    results[key] = {\"correct\": y[key], \"predicted\": decode_label(predicted_label[0][0][0])}"
   ]
  },
  {
   "cell_type": "code",
   "execution_count": 57,
   "id": "9ba93d2c-5415-419c-bfa0-1197df0abffd",
   "metadata": {},
   "outputs": [
    {
     "data": {
      "text/plain": [
       "0.4"
      ]
     },
     "execution_count": 57,
     "metadata": {},
     "output_type": "execute_result"
    }
   ],
   "source": [
    "evaluate_results(results)"
   ]
  },
  {
   "cell_type": "code",
   "execution_count": 58,
   "id": "57289f5c-6cb8-4378-a9a2-ff33b01244e4",
   "metadata": {},
   "outputs": [
    {
     "data": {
      "text/html": [
       "<div>\n",
       "<style scoped>\n",
       "    .dataframe tbody tr th:only-of-type {\n",
       "        vertical-align: middle;\n",
       "    }\n",
       "\n",
       "    .dataframe tbody tr th {\n",
       "        vertical-align: top;\n",
       "    }\n",
       "\n",
       "    .dataframe thead th {\n",
       "        text-align: right;\n",
       "    }\n",
       "</style>\n",
       "<table border=\"1\" class=\"dataframe\">\n",
       "  <thead>\n",
       "    <tr style=\"text-align: right;\">\n",
       "      <th></th>\n",
       "      <th>correct</th>\n",
       "      <th>predicted</th>\n",
       "    </tr>\n",
       "  </thead>\n",
       "  <tbody>\n",
       "    <tr>\n",
       "      <td>1-2</td>\n",
       "      <td>True</td>\n",
       "      <td>True</td>\n",
       "    </tr>\n",
       "    <tr>\n",
       "      <td>2-3</td>\n",
       "      <td>True</td>\n",
       "      <td>True</td>\n",
       "    </tr>\n",
       "    <tr>\n",
       "      <td>3-1</td>\n",
       "      <td>False</td>\n",
       "      <td>True</td>\n",
       "    </tr>\n",
       "    <tr>\n",
       "      <td>3-2</td>\n",
       "      <td>True</td>\n",
       "      <td>False</td>\n",
       "    </tr>\n",
       "    <tr>\n",
       "      <td>3-3</td>\n",
       "      <td>False</td>\n",
       "      <td>True</td>\n",
       "    </tr>\n",
       "  </tbody>\n",
       "</table>\n",
       "</div>"
      ],
      "text/plain": [
       "     correct predicted\n",
       "1-2     True      True\n",
       "2-3     True      True\n",
       "3-1    False      True\n",
       "3-2     True     False\n",
       "3-3    False      True"
      ]
     },
     "execution_count": 58,
     "metadata": {},
     "output_type": "execute_result"
    }
   ],
   "source": [
    "show_results(results)"
   ]
  },
  {
   "cell_type": "code",
   "execution_count": 59,
   "id": "1554e46e-30a8-4916-975f-670b633d36fb",
   "metadata": {},
   "outputs": [
    {
     "data": {
      "text/plain": [
       "array([-0.08877166,  0.06041456,  0.0967663 , -0.08981141, -0.05204509,\n",
       "       -0.07906921,  0.0069568 ,  0.00426694, -0.03400405, -0.03646002],\n",
       "      dtype=float32)"
      ]
     },
     "execution_count": 59,
     "metadata": {},
     "output_type": "execute_result"
    }
   ],
   "source": [
    "model[\"euro\"]"
   ]
  },
  {
   "cell_type": "code",
   "execution_count": 63,
   "id": "942b5139-4717-4d0d-a574-818f390c4045",
   "metadata": {},
   "outputs": [
    {
     "data": {
      "text/plain": [
       "{'1-2': 'today i want to send a clear message to the people of this great country , of greece . i know that many people feel without hope . many are making extremely difficult sacrifices . and many people ask why they should do more . i understand those concerns . and i agree that some of the efforts seem unfair . but i ask people to recognise the other alternatives which will be much more difficult for greece and will affect even more the most vulnerable in the greek society . so this is why it is the right approach to ask greece to reform , to increase its competitiveness to have a viable future , irrespective of the crisis . you , in greece , with our support , need to rebuild your country , your structures , your administration , your economy to increase the competitiveness of greece . and the best hope of a return to growth and job creation is inside the euro area . staying in the euro is the best chance to avoid worse hardship and difficulties to the greek people , namely for those in a more vulnerable position',\n",
       " '2-3': 'to conclude , let me say a few words on the euro area more generally . we have taken important , fundamental decisions over the last couple of months to safeguard the stability of the euro area , and indeed we are now in the phase of implementation . a number of governments have embarked on a path of reform and fiscal consolidation that was unthinkable only very recently , and they have taken important decisions and i encourage them to keep this determination . these reforms are now being implemented and this effort must continue with credibility , with consistency , with coherence over time . as we said there will not be magic solutions . we need sustained efforts and determination . at the same time , the existing financial backstops are being used as necessary . most recently , the financial assistance to the recapitalisation of spanish banks has been agreed and is ready for implementation .',\n",
       " '3-1': 'at european level , the commission is working intensively towards the creation of a banking union . in early september we will make a legislative proposal for a single supervisory mechanism . this will rely on the ecb as regards the euro area . we will propose to assign to the ecb supervisory tasks in full separation from its independent monetary policy responsibilities .',\n",
       " '3-2': 'giving to the ecb the ultimate responsibility for supervision of banks in the euro area will decisively contribute to increase confidence between the banks and in this way increase the financial stability in the euro area . the euro area governments and the european institutions , including naturally the european commission and the ecb , will do whatever is necessary to secure the financial stability of the euro area .',\n",
       " '3-3': 'and this i my final word to you : i think all of us in the euro area and in the european union should join hands and work together in greece and in the other countries for the future of our common currency , for the future of our european project . sometimes i fear that some people have not yet understood that we are all in the same boat . we are really all in the same boat in europe . that is why together greeks and all the other europeans should show the same resolve for the very important commitments that have been taken .'}"
      ]
     },
     "execution_count": 63,
     "metadata": {},
     "output_type": "execute_result"
    }
   ],
   "source": [
    "X"
   ]
  },
  {
   "cell_type": "markdown",
   "id": "ffcb5343-b3c8-4dc0-822c-5be29d3c178f",
   "metadata": {},
   "source": [
    "## 5. Task 2: Find relevant phrases in text"
   ]
  },
  {
   "cell_type": "code",
   "execution_count": 19,
   "id": "f4db1c55-ba50-4044-a519-89575f8d6e20",
   "metadata": {},
   "outputs": [],
   "source": [
    "from transformers import pipeline"
   ]
  },
  {
   "cell_type": "markdown",
   "id": "27ea18e7-96ab-4d99-80a2-89699597d76c",
   "metadata": {},
   "source": [
    "## 5.1 Testing the pretrained Named Entity Recognition (NER) model"
   ]
  },
  {
   "cell_type": "code",
   "execution_count": 22,
   "id": "ba94ba35-20fc-411e-81d2-0fc650d29973",
   "metadata": {},
   "outputs": [
    {
     "data": {
      "application/vnd.jupyter.widget-view+json": {
       "model_id": "f90f97c34bcd4d7eae221fc0bbff6ba8",
       "version_major": 2,
       "version_minor": 0
      },
      "text/plain": [
       "HBox(children=(IntProgress(value=0, description='Downloading', max=998, style=ProgressStyle(description_width=…"
      ]
     },
     "metadata": {},
     "output_type": "display_data"
    },
    {
     "name": "stdout",
     "output_type": "stream",
     "text": [
      "\n"
     ]
    },
    {
     "data": {
      "application/vnd.jupyter.widget-view+json": {
       "model_id": "6ba0a206f5be4aa4aec94b92c74436da",
       "version_major": 2,
       "version_minor": 0
      },
      "text/plain": [
       "HBox(children=(IntProgress(value=0, description='Downloading', max=1334448817, style=ProgressStyle(description…"
      ]
     },
     "metadata": {},
     "output_type": "display_data"
    },
    {
     "name": "stdout",
     "output_type": "stream",
     "text": [
      "\n"
     ]
    },
    {
     "data": {
      "application/vnd.jupyter.widget-view+json": {
       "model_id": "76953dcec97f461d8d95a800138e26fa",
       "version_major": 2,
       "version_minor": 0
      },
      "text/plain": [
       "HBox(children=(IntProgress(value=0, description='Downloading', max=213450, style=ProgressStyle(description_wid…"
      ]
     },
     "metadata": {},
     "output_type": "display_data"
    },
    {
     "name": "stdout",
     "output_type": "stream",
     "text": [
      "\n"
     ]
    },
    {
     "data": {
      "application/vnd.jupyter.widget-view+json": {
       "model_id": "d1b2da917bd8415dbc08da07e49e3efd",
       "version_major": 2,
       "version_minor": 0
      },
      "text/plain": [
       "HBox(children=(IntProgress(value=0, description='Downloading', max=60, style=ProgressStyle(description_width='…"
      ]
     },
     "metadata": {},
     "output_type": "display_data"
    },
    {
     "name": "stdout",
     "output_type": "stream",
     "text": [
      "\n"
     ]
    }
   ],
   "source": [
    "classifier = pipeline('ner')"
   ]
  },
  {
   "cell_type": "code",
   "execution_count": 27,
   "id": "7d09f3b3-5cf9-4556-99f0-d6667a907958",
   "metadata": {},
   "outputs": [
    {
     "name": "stdout",
     "output_type": "stream",
     "text": [
      "Statement by President Barroso following his meeting with Mr Antonis Samaras, Prime Minister of Greece\n"
     ]
    },
    {
     "data": {
      "text/plain": [
       "[{'word': 'Barr',\n",
       "  'score': 0.9984531998634338,\n",
       "  'entity': 'I-PER',\n",
       "  'index': 5,\n",
       "  'start': 23,\n",
       "  'end': 27},\n",
       " {'word': '##oso',\n",
       "  'score': 0.9939749836921692,\n",
       "  'entity': 'I-PER',\n",
       "  'index': 6,\n",
       "  'start': 27,\n",
       "  'end': 30},\n",
       " {'word': 'Anton',\n",
       "  'score': 0.9995124936103821,\n",
       "  'entity': 'I-PER',\n",
       "  'index': 12,\n",
       "  'start': 61,\n",
       "  'end': 66},\n",
       " {'word': '##is',\n",
       "  'score': 0.9988749027252197,\n",
       "  'entity': 'I-PER',\n",
       "  'index': 13,\n",
       "  'start': 66,\n",
       "  'end': 68},\n",
       " {'word': 'Sam',\n",
       "  'score': 0.9991353154182434,\n",
       "  'entity': 'I-PER',\n",
       "  'index': 14,\n",
       "  'start': 69,\n",
       "  'end': 72},\n",
       " {'word': '##ara',\n",
       "  'score': 0.9854997992515564,\n",
       "  'entity': 'I-PER',\n",
       "  'index': 15,\n",
       "  'start': 72,\n",
       "  'end': 75},\n",
       " {'word': '##s',\n",
       "  'score': 0.9926432967185974,\n",
       "  'entity': 'I-PER',\n",
       "  'index': 16,\n",
       "  'start': 75,\n",
       "  'end': 76},\n",
       " {'word': 'Greece',\n",
       "  'score': 0.9994153380393982,\n",
       "  'entity': 'I-LOC',\n",
       "  'index': 21,\n",
       "  'start': 96,\n",
       "  'end': 102}]"
      ]
     },
     "execution_count": 27,
     "metadata": {},
     "output_type": "execute_result"
    }
   ],
   "source": [
    "print(paragraph_list[0])\n",
    "classifier(paragraph_list[0])"
   ]
  },
  {
   "cell_type": "markdown",
   "id": "74d97c29-0e51-4f80-bcdb-4065ffcab3c2",
   "metadata": {},
   "source": [
    "## 5.2 Training a phrase recognition model\n",
    "\n",
    "Source: https://huggingface.co/transformers/task_summary.html#named-entity-recognition\n",
    "\n",
    "This does not change the behaviour of the system. Perhaps we need to start from https://github.com/huggingface/transformers/blob/master/examples/pytorch/token-classification/run_ner.py"
   ]
  },
  {
   "cell_type": "code",
   "execution_count": 60,
   "id": "1e77dfbd-adc2-42cb-9900-19d81b30b782",
   "metadata": {},
   "outputs": [],
   "source": [
    "from transformers import AutoModelForTokenClassification, AutoTokenizer\n",
    "import torch\n",
    "\n",
    "model = AutoModelForTokenClassification.from_pretrained(\"dbmdz/bert-large-cased-finetuned-conll03-english\")\n",
    "tokenizer = AutoTokenizer.from_pretrained(\"bert-base-cased\")\n",
    "label_list = [\n",
    "    \"O\",       # Outside of a phrase\n",
    "    \"I-CON\"    # Concept\n",
    "    \"I-EXP\"    # Explanation\n",
    "]"
   ]
  },
  {
   "cell_type": "code",
   "execution_count": 61,
   "id": "6847361d-c5a3-4f1d-8c9c-4d7015c17a11",
   "metadata": {},
   "outputs": [],
   "source": [
    "sequence = paragraph_list[0]\n",
    "\n",
    "# Bit of a hack to get the tokens with the special tokens\n",
    "tokens = tokenizer.tokenize(tokenizer.decode(tokenizer.encode(sequence)))\n",
    "inputs = tokenizer.encode(sequence, return_tensors=\"pt\")\n",
    "outputs = model(inputs).logits\n",
    "predictions = torch.argmax(outputs, dim=2)"
   ]
  },
  {
   "cell_type": "code",
   "execution_count": 62,
   "id": "b63354c2-f416-4bb0-8f36-9213464437ca",
   "metadata": {},
   "outputs": [
    {
     "data": {
      "text/plain": [
       "tensor([[0, 0, 0, 0, 0, 4, 4, 0, 0, 0, 0, 0, 4, 4, 4, 4, 4, 0, 0, 0, 0, 8, 0]])"
      ]
     },
     "execution_count": 62,
     "metadata": {},
     "output_type": "execute_result"
    }
   ],
   "source": [
    "predictions"
   ]
  },
  {
   "cell_type": "code",
   "execution_count": 34,
   "id": "b08f05f4-7291-4fc5-b1c0-4d45171c63a2",
   "metadata": {},
   "outputs": [
    {
     "name": "stdout",
     "output_type": "stream",
     "text": [
      "('[CLS]', 'O')\n",
      "('State', 'O')\n",
      "('##ment', 'O')\n",
      "('by', 'O')\n",
      "('President', 'O')\n",
      "('Barr', 'I-PER')\n",
      "('##oso', 'I-PER')\n",
      "('following', 'O')\n",
      "('his', 'O')\n",
      "('meeting', 'O')\n",
      "('with', 'O')\n",
      "('Mr', 'O')\n",
      "('Anton', 'I-PER')\n",
      "('##is', 'I-PER')\n",
      "('Sam', 'I-PER')\n",
      "('##ara', 'I-PER')\n",
      "('##s', 'I-PER')\n",
      "(',', 'O')\n",
      "('Prime', 'O')\n",
      "('Minister', 'O')\n",
      "('of', 'O')\n",
      "('Greece', 'I-LOC')\n",
      "('[SEP]', 'O')\n"
     ]
    }
   ],
   "source": [
    "for token, prediction in zip(tokens, predictions[0].numpy()):\n",
    "    print((token, model.config.id2label[prediction]))"
   ]
  },
  {
   "cell_type": "code",
   "execution_count": 35,
   "id": "77f9c0bb-fa28-4c1b-b149-26d58f64f0e9",
   "metadata": {},
   "outputs": [
    {
     "data": {
      "text/plain": [
       "['Statement by President Barroso following his meeting with Mr Antonis Samaras, Prime Minister of Greece',\n",
       " 'Press point/Athens',\n",
       " '26 July 2012',\n",
       " '',\n",
       " 'http://europa.eu/rapid/press-release_SPEECH-12-571_en.htm',\n",
       " 'Thank you very much.',\n",
       " \"I really want to thank my good friend Antonis Samaras for the invitation. I really appreciate our friendship and the Prime Minister's clear commitment to Europe. This is so crucial during these difficult times. And I know that this aspiration and this determination are shared by the two other respective leaders of the coalition government Mr Venizelos and Mr Kouvelis and I want to thank them also for their strong pro-European commitment.\",\n",
       " '1-2: Today I want to send a clear message to the people of this great country, of Greece. I know that many people feel without hope. Many are making extremely difficult sacrifices. And many people ask why they should do more. I understand those concerns. And I agree that some of the efforts seem unfair. But I ask people to recognise the other alternatives which will be much more difficult for Greece and will affect even more the most vulnerable in the Greek society. So this is why it is the right approach to ask Greece to reform, to increase its competitiveness to have a viable future, irrespective of the crisis. You, in Greece, with our support, need to rebuild your country, your structures, your administration, your economy to increase the competitiveness of Greece. And the best hope of a return to growth and job creation is inside the euro area. Staying in the euro is the best chance to avoid worse hardship and difficulties to the Greek people, namely for those in a more vulnerable position',\n",
       " 'The Prime Minister has assured me that the coalition government will respect the commitments under the second programme and will speed up the key structural reforms that are needed, including the privatisation process and of course, also the reforms in the public administration, for instance, the reform against the tax evasion. The key word here is: deliver. Deliver, deliver, deliver. The main issue is implementation to deliver results. To maintain the trust of European and international partners, the delays must end. Words are not enough. Actions are much more important. Following my meeting with Prime Minister Samaras, I am reassured that this delivery will happen.',\n",
       " 'In return I have been unequivocal that the European Commission will stand by Greece. I am here as a friend of Greece. I have repeatedly stated that Greece can make it, together Greece and Europe will make it. Greece is part of the European family and the euro area and we intend to keep it that way. All the heads of state and government of the euro area have stated in the clearest possible terms that Greece should stay in the euro as long as the commitments made are honoured. And there has been solidarity towards Greece. The European Union and the wider international community have shown unprecedented solidarity with the people of Greece. We need a new consensus on reform and development so that Greece can grow again for the benefit of its citizens.',\n",
       " \"The Commission's Task Force for Greece that was established at my initiative, is working to reform the public sector, cut red tape, improve the business environment and assist the Greek authorities in the mobilisation of European structural funds. I can confirm that 181 priority projects will be financed through \\x8012 billion in structural funds for growth and jobs. And of course in all the other policies there are also ways of supporting Greece. For instance we are now discussing the future Multiannual Financial Framework, the budget for the next seven years, and certainly the European Commission will support. And indeed we are proposing a more integrated policy in Europe when it comes to migration issues so that we can have as much as possible a coherent response to the problems of illegal migration in many of our countries and this of course also applies to Greece.\",\n",
       " 'So my message is: the Greek people do not stand alone. There is hope. And we will be there to help you. I come out of this meeting with a renewed sense of confidence that the coalition government is committed to the reform process and that this can be done.',\n",
       " 'Ladies and gentlemen,',\n",
       " '2-3: To conclude, let me say a few words on the euro area more generally. We have taken important, fundamental decisions over the last couple of months to safeguard the stability of the euro area, and indeed we are now in the phase of implementation. A number of governments have embarked on a path of reform and fiscal consolidation that was unthinkable only very recently, and they have taken important decisions and I encourage them to keep this determination. These reforms are now being implemented and this effort must continue with credibility, with consistency, with coherence over time. As we said there will not be magic solutions. We need sustained efforts and determination. At the same time, the existing financial backstops are being used as necessary. Most recently, the financial assistance to the recapitalisation of Spanish banks has been agreed and is ready for implementation.',\n",
       " '3-1: At European level, the Commission is working intensively towards the creation of a banking union. In early September we will make a legislative proposal for a single supervisory mechanism. This will rely on the ECB as regards the euro area. We will propose to assign to the ECB supervisory tasks in full separation from its independent monetary policy responsibilities.',\n",
       " '3-2: Giving to the ECB the ultimate responsibility for supervision of banks in the euro area will decisively contribute to increase confidence between the banks and in this way increase the financial stability in the euro area. The euro area governments and the European institutions, including naturally the European Commission and the ECB, will do whatever is necessary to secure the financial stability of the euro area.',\n",
       " '3-3: And this I my final word to you: I think all of us in the Euro area and in the European Union should join hands and work together in Greece and in the other countries for the future of our common currency, for the future of our European project. Sometimes I fear that some people have not yet understood that we are all in the same boat. We are really all in the same boat in Europe. That is why together Greeks and all the other Europeans should show the same resolve for the very important commitments that have been taken.',\n",
       " 'I thank you for your attention.',\n",
       " '',\n",
       " '1',\n",
       " '',\n",
       " '']"
      ]
     },
     "execution_count": 35,
     "metadata": {},
     "output_type": "execute_result"
    }
   ],
   "source": [
    "paragraph_list\n"
   ]
  },
  {
   "cell_type": "code",
   "execution_count": null,
   "id": "5d271cd5-4753-4748-be22-cf45fdcd45cc",
   "metadata": {},
   "outputs": [],
   "source": []
  }
 ],
 "metadata": {
  "kernelspec": {
   "display_name": "python37",
   "language": "python",
   "name": "python37"
  },
  "language_info": {
   "codemirror_mode": {
    "name": "ipython",
    "version": 3
   },
   "file_extension": ".py",
   "mimetype": "text/x-python",
   "name": "python",
   "nbconvert_exporter": "python",
   "pygments_lexer": "ipython3",
   "version": "3.7.3"
  },
  "toc-showtags": true
 },
 "nbformat": 4,
 "nbformat_minor": 5
}
